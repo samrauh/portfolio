{
 "cells": [
  {
   "cell_type": "code",
   "execution_count": 2,
   "metadata": {},
   "outputs": [],
   "source": [
    "#Import necessary libraries\n",
    "import pandas as pd\n",
    "import numpy as np\n",
    "from bokeh.io import output_file, show, save, curdoc, output_notebook\n",
    "from bokeh.plotting import figure\n",
    "from bokeh.models import ColumnDataSource, HoverTool, FactorRange, DatetimeTickFormatter\n",
    "from bokeh.models.widgets import Select\n",
    "from bokeh.layouts import column, row, gridplot\n",
    "import bokeh.palettes as bp # uncomment it if you need special colors that are pre-defined\n",
    "import datetime as dt"
   ]
  },
  {
   "cell_type": "code",
   "execution_count": 3,
   "metadata": {},
   "outputs": [],
   "source": [
    "#----------------------------Task 1: Data Pre-processing--------------------\n",
    "\n",
    "#Read data\n",
    "df = pd.read_csv('data.csv')"
   ]
  },
  {
   "cell_type": "code",
   "execution_count": 4,
   "metadata": {
    "scrolled": true
   },
   "outputs": [
    {
     "data": {
      "text/html": [
       "<div>\n",
       "<style scoped>\n",
       "    .dataframe tbody tr th:only-of-type {\n",
       "        vertical-align: middle;\n",
       "    }\n",
       "\n",
       "    .dataframe tbody tr th {\n",
       "        vertical-align: top;\n",
       "    }\n",
       "\n",
       "    .dataframe thead th {\n",
       "        text-align: right;\n",
       "    }\n",
       "</style>\n",
       "<table border=\"1\" class=\"dataframe\">\n",
       "  <thead>\n",
       "    <tr style=\"text-align: right;\">\n",
       "      <th></th>\n",
       "      <th>id</th>\n",
       "      <th>vendor_id</th>\n",
       "      <th>pickup_datetime</th>\n",
       "      <th>dropoff_datetime</th>\n",
       "      <th>passenger_count</th>\n",
       "      <th>pickup_longitude</th>\n",
       "      <th>pickup_latitude</th>\n",
       "      <th>dropoff_longitude</th>\n",
       "      <th>dropoff_latitude</th>\n",
       "      <th>store_and_fwd_flag</th>\n",
       "      <th>trip_duration</th>\n",
       "    </tr>\n",
       "  </thead>\n",
       "  <tbody>\n",
       "    <tr>\n",
       "      <th>0</th>\n",
       "      <td>id2875421</td>\n",
       "      <td>2</td>\n",
       "      <td>2016-03-14 17:24:55</td>\n",
       "      <td>2016-03-14 17:32:30</td>\n",
       "      <td>1</td>\n",
       "      <td>-73.982155</td>\n",
       "      <td>40.767937</td>\n",
       "      <td>-73.964630</td>\n",
       "      <td>40.765602</td>\n",
       "      <td>N</td>\n",
       "      <td>455</td>\n",
       "    </tr>\n",
       "    <tr>\n",
       "      <th>1</th>\n",
       "      <td>id2377394</td>\n",
       "      <td>1</td>\n",
       "      <td>2016-06-12 00:43:35</td>\n",
       "      <td>2016-06-12 00:54:38</td>\n",
       "      <td>1</td>\n",
       "      <td>-73.980415</td>\n",
       "      <td>40.738564</td>\n",
       "      <td>-73.999481</td>\n",
       "      <td>40.731152</td>\n",
       "      <td>N</td>\n",
       "      <td>663</td>\n",
       "    </tr>\n",
       "    <tr>\n",
       "      <th>2</th>\n",
       "      <td>id3858529</td>\n",
       "      <td>2</td>\n",
       "      <td>2016-01-19 11:35:24</td>\n",
       "      <td>2016-01-19 12:10:48</td>\n",
       "      <td>1</td>\n",
       "      <td>-73.979027</td>\n",
       "      <td>40.763939</td>\n",
       "      <td>-74.005333</td>\n",
       "      <td>40.710087</td>\n",
       "      <td>N</td>\n",
       "      <td>2124</td>\n",
       "    </tr>\n",
       "    <tr>\n",
       "      <th>3</th>\n",
       "      <td>id3504673</td>\n",
       "      <td>2</td>\n",
       "      <td>2016-04-06 19:32:31</td>\n",
       "      <td>2016-04-06 19:39:40</td>\n",
       "      <td>1</td>\n",
       "      <td>-74.010040</td>\n",
       "      <td>40.719971</td>\n",
       "      <td>-74.012268</td>\n",
       "      <td>40.706718</td>\n",
       "      <td>N</td>\n",
       "      <td>429</td>\n",
       "    </tr>\n",
       "    <tr>\n",
       "      <th>4</th>\n",
       "      <td>id2181028</td>\n",
       "      <td>2</td>\n",
       "      <td>2016-03-26 13:30:55</td>\n",
       "      <td>2016-03-26 13:38:10</td>\n",
       "      <td>1</td>\n",
       "      <td>-73.973053</td>\n",
       "      <td>40.793209</td>\n",
       "      <td>-73.972923</td>\n",
       "      <td>40.782520</td>\n",
       "      <td>N</td>\n",
       "      <td>435</td>\n",
       "    </tr>\n",
       "  </tbody>\n",
       "</table>\n",
       "</div>"
      ],
      "text/plain": [
       "          id  vendor_id      pickup_datetime     dropoff_datetime  \\\n",
       "0  id2875421          2  2016-03-14 17:24:55  2016-03-14 17:32:30   \n",
       "1  id2377394          1  2016-06-12 00:43:35  2016-06-12 00:54:38   \n",
       "2  id3858529          2  2016-01-19 11:35:24  2016-01-19 12:10:48   \n",
       "3  id3504673          2  2016-04-06 19:32:31  2016-04-06 19:39:40   \n",
       "4  id2181028          2  2016-03-26 13:30:55  2016-03-26 13:38:10   \n",
       "\n",
       "   passenger_count  pickup_longitude  pickup_latitude  dropoff_longitude  \\\n",
       "0                1        -73.982155        40.767937         -73.964630   \n",
       "1                1        -73.980415        40.738564         -73.999481   \n",
       "2                1        -73.979027        40.763939         -74.005333   \n",
       "3                1        -74.010040        40.719971         -74.012268   \n",
       "4                1        -73.973053        40.793209         -73.972923   \n",
       "\n",
       "   dropoff_latitude store_and_fwd_flag  trip_duration  \n",
       "0         40.765602                  N            455  \n",
       "1         40.731152                  N            663  \n",
       "2         40.710087                  N           2124  \n",
       "3         40.706718                  N            429  \n",
       "4         40.782520                  N            435  "
      ]
     },
     "execution_count": 4,
     "metadata": {},
     "output_type": "execute_result"
    }
   ],
   "source": [
    "df.head()"
   ]
  },
  {
   "cell_type": "code",
   "execution_count": 5,
   "metadata": {},
   "outputs": [],
   "source": [
    "#T.1.1: Generate y-axis components.\n",
    "#Convert \"pickup_datetime\" and \"dropoff_datetime\" attributes in the dataframe to datetime type for further processing\n",
    "#Reference Links: \n",
    "    # https://pandas.pydata.org/docs/reference/api/pandas.to_datetime.html\n",
    "df['pickup_datetime'] = pd.to_datetime(df['pickup_datetime'])\n",
    "df['dropoff_datetime'] = pd.to_datetime(df['dropoff_datetime'])"
   ]
  },
  {
   "cell_type": "code",
   "execution_count": 6,
   "metadata": {},
   "outputs": [],
   "source": [
    "#Adding a new column called \"datetime\" by extracting the date for the x-axis\n",
    "df['datetime'] = df['pickup_datetime'].apply(lambda x: x.date())\n",
    "#Split datetime object to months and hours, and do the following conversion for months:\n",
    "    # 5 -> \"May\" \n",
    "    # 3 -> \"March\" , and so on.\n",
    "#Reference links:\n",
    "    # https://www.projectpro.io/recipes/split-datetime-data-create-multiple-feature-in-python\n",
    "df['pickup_datetime_month'] = df['pickup_datetime'].dt.month\n",
    "\n",
    "#We need the exact time info for starting and ending time for the horizontal bar.\n",
    "df['pickup_datetime_time'] = df['pickup_datetime'].dt.time\n",
    "df['dropoff_datetime_time'] = df['dropoff_datetime'].dt.time\n",
    "\n",
    "#Month conversion\n",
    "df['pickup_datetime_month'] = df['pickup_datetime_month'].replace([1, 2, 3, 4, 5, 6], [\"jan\",\"feb\",\"march\",\"april\",\"may\",\"june\"])"
   ]
  },
  {
   "cell_type": "code",
   "execution_count": 7,
   "metadata": {},
   "outputs": [],
   "source": [
    "#We will remove some part of the data for computational reasons.\n",
    "np.random.seed(10)\n",
    "remove_n = 1455000\n",
    "drop_indices = np.random.choice(df.index, remove_n, replace=False)\n",
    "df = df.drop(drop_indices)"
   ]
  },
  {
   "cell_type": "code",
   "execution_count": 8,
   "metadata": {},
   "outputs": [],
   "source": [
    "#Assign colors for each vendor_id. We will need them while plotting.\n",
    "#Reference Links:\n",
    "    #https://docs.bokeh.org/en/latest/docs/reference/colors.html\n",
    "\n",
    "# First create a new column called \"color\", then assign colors according to vendor_id\n",
    "    # assign color[0] to vendor_id 1, and color[1] to vendor_id 2\n",
    "color = list()\n",
    "for i in range(len(df.index)):\n",
    "    color.append(\"#A9A9A9\")\n",
    "df['color'] = color\n",
    "\n",
    "colors =  ['#FF0000','#32CD32']\n",
    "for idx in df.index:\n",
    "    if df.at[idx,'vendor_id'] == 1:\n",
    "        df.at[idx, 'color'] = colors[0]\n",
    "    else:\n",
    "        df.at[idx, 'color'] = colors[1]\n"
   ]
  },
  {
   "cell_type": "code",
   "execution_count": 9,
   "metadata": {},
   "outputs": [
    {
     "data": {
      "text/plain": [
       "808        2016-03-07\n",
       "1209       2016-02-11\n",
       "1340       2016-04-08\n",
       "1473       2016-01-09\n",
       "1555       2016-03-02\n",
       "              ...    \n",
       "1456376    2016-01-15\n",
       "1457226    2016-02-14\n",
       "1457603    2016-03-24\n",
       "1457920    2016-06-22\n",
       "1458371    2016-02-25\n",
       "Name: datetime, Length: 3644, dtype: object"
      ]
     },
     "execution_count": 9,
     "metadata": {},
     "output_type": "execute_result"
    }
   ],
   "source": [
    "df['datetime']"
   ]
  },
  {
   "cell_type": "code",
   "execution_count": 10,
   "metadata": {},
   "outputs": [],
   "source": [
    "#Replace vendor_id -> 1,2 with \"vendor_1\",\"vendor_2\"\n",
    "df['vendor_id'] = df['vendor_id'].replace([1, 2], ['vendor_1', 'vendor_2'])\n",
    "\n",
    "#Convert datetime to string using pandas.Timestamp.strftime\n",
    "df['datetime'] = pd.to_datetime(df['datetime'])\n",
    "df['datetime'] = df['datetime'].dt.strftime('%Y-%m-%d')"
   ]
  },
  {
   "cell_type": "code",
   "execution_count": 43,
   "metadata": {},
   "outputs": [],
   "source": [
    "#T1.2: Create the Selector Widget\n",
    "\n",
    "#Reference links:\n",
    "    #https://docs.bokeh.org/en/2.4.0/docs/user_guide/interaction/widgets.html#select\n",
    "    #https://www.geeksforgeeks.org/bokeh-adding-widgets/\n",
    "\n",
    "#Add control selector for selecting months, thus you need to first extract the unique month info.\n",
    "category = list(df['pickup_datetime_month'].unique())\n",
    "select_category = Select(title=\"Months:\", value=\"jan\", options=category, width=300)"
   ]
  },
  {
   "cell_type": "code",
   "execution_count": 12,
   "metadata": {},
   "outputs": [],
   "source": [
    "#-----------------------------------Task2: Construct data structures------------------------------------------\n",
    "\n",
    "#Group data by month\n",
    "grouped_months = df.groupby('pickup_datetime_month')"
   ]
  },
  {
   "cell_type": "code",
   "execution_count": 13,
   "metadata": {},
   "outputs": [],
   "source": [
    "#T2.1 : Define a function that creates a ColumnDataSource\n",
    "    #INPUT: month\n",
    "    #OUTPUT: ColumnDataSource\n",
    "def create_datasource(month):\n",
    "    month_df = grouped_months.get_group(month).drop(['pickup_longitude', \"pickup_latitude\",\"dropoff_longitude\",\"dropoff_latitude\",\"store_and_fwd_flag\"],1)\n",
    "    \n",
    "    data = {'Vendor': list(month_df['vendor_id']),\n",
    "            'NumOfPass': list(month_df['passenger_count']),\n",
    "            'StartTime': list(month_df['pickup_datetime_time']),\n",
    "            'EndTime': list(month_df['dropoff_datetime_time']),\n",
    "            'Dates' : month_df.loc[:,\"datetime\"].sort_values(),\n",
    "            'Color' : list(month_df['color'])\n",
    "    }\n",
    "\n",
    "    source = ColumnDataSource(data=data)\n",
    "    \n",
    "    return source"
   ]
  },
  {
   "cell_type": "code",
   "execution_count": 14,
   "metadata": {
    "scrolled": true
   },
   "outputs": [],
   "source": [
    "#T2.2: Define a function that updates the datasource when another month is selected.\n",
    "def update_source(attr, old, new):\n",
    "    month = select_category.value # once the widget is trigered, a new value will be passed.\n",
    "    source1 = create_datasource(month) # with the new month value, we update the ColumnDataSource, such that the plot will be updated.\n",
    "    p.y_range.factors = list(source1.data['Dates'].unique()) # We also need to update the y axis since the date in each month is unique.\n",
    "    source.data.update(source1.data) # This adds a new dict. We will replace the whole datasource\n",
    "    \n",
    "\n",
    "#Bind the update_source function to select_category widget. Everytime a new item is selected the update_source\n",
    "#function will be triggered\n",
    "select_category.on_change('value', update_source)"
   ]
  },
  {
   "cell_type": "code",
   "execution_count": 15,
   "metadata": {},
   "outputs": [],
   "source": [
    "#------------------------------------Task3: Plotting---------------------------------------------------------\n",
    "\n",
    "#Your y-range should be the dates for the selected month.\n",
    "#Hint: Keep in mind that as the month changes your y-range also needs to be updated. \n",
    "\n",
    "#T3.1: Get the current month, create the data source based on the new month info, and define the y-range\n",
    "current_month = 'march'\n",
    "source = create_datasource(current_month)\n",
    "y_Range = list(dict.fromkeys(source.data['Dates']))"
   ]
  },
  {
   "cell_type": "code",
   "execution_count": 40,
   "metadata": {
    "scrolled": false
   },
   "outputs": [],
   "source": [
    "#T3.2: Create figure and add the necessary glyphs: Horizontal Bar (HBar) and cirle.\n",
    "\n",
    "\n",
    "p = figure(x_axis_type=\"datetime\", y_range = y_Range, plot_width=1400, plot_height=700, toolbar_location=None,title=\"NYC Taxi Traffic\")\n",
    "p.xaxis.formatter = DatetimeTickFormatter(hours=[\"%H:%M\"], days=[\"%H:%M\"], months=[\"%H:%M\"], years=[\"%H:%M\"],)\n",
    "\n",
    "#Hint: While drawing bars and the circles please be careful. Remember the colors you assigned to each vendor. Color of the bars and circles changes depending on \n",
    "#the vendor_id. Structure your code accordingly ;)\n",
    "    #Reference: https://docs.bokeh.org/en/latest/docs/reference/plotting/figure.html\n",
    "    \n",
    "p.hbar(y='Dates', left='StartTime', right='EndTime', source=source, height=0.02, color='Color')\n",
    "circle = p.circle(x='StartTime', y='Dates',  size='NumOfPass', source=source, color='Color')\n"
   ]
  },
  {
   "cell_type": "code",
   "execution_count": 41,
   "metadata": {},
   "outputs": [],
   "source": [
    "#T3.3: Add Hover Tool to circle glyph. It must show the date, number of passengers and vendor_id.\n",
    "p.add_tools(HoverTool(renderers=[circle], tooltips=[('Date', '@Dates'),\n",
    "                                                    ('Number of Passengers', '@NumOfPass'),\n",
    "                                                    ('Vendor ID', '@Vendor')], \n",
    "                      formatters={'@Dates' : 'datetime'}))\n",
    "\n",
    "#Add labels and create the layout\n",
    "#Reference Links:\n",
    "    #https://docs.bokeh.org/en/latest/docs/user_guide/layout.html\n",
    "\n",
    "p.yaxis.axis_label = \"Dates\"\n",
    "p.xaxis.axis_label = \"Time\"\n",
    "p.sizing_mode = \"stretch_both\"\n",
    "\n",
    "layout = column(p, select_category)\n",
    "curdoc().add_root(layout)\n",
    "\n",
    "# You can use the command below in the folder of your python file to start a bokeh directory app.\n",
    "# bokeh serve --show your_code.py or bokeh serve --show your_code.ipynb\n",
    "# python -m bokeh serve --show your_code.py"
   ]
  }
 ],
 "metadata": {
  "kernelspec": {
   "display_name": "Python 3",
   "language": "python",
   "name": "python3"
  },
  "language_info": {
   "codemirror_mode": {
    "name": "ipython",
    "version": 3
   },
   "file_extension": ".py",
   "mimetype": "text/x-python",
   "name": "python",
   "nbconvert_exporter": "python",
   "pygments_lexer": "ipython3",
   "version": "3.8.5"
  }
 },
 "nbformat": 4,
 "nbformat_minor": 4
}
