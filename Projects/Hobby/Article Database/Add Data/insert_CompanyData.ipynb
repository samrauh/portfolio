{
 "cells": [
  {
   "cell_type": "code",
   "execution_count": null,
   "id": "2ffeb30f",
   "metadata": {},
   "outputs": [],
   "source": [
    "import mysql.connector\n",
    "import pandas as pd\n",
    "import matplotlib.pyplot as plt"
   ]
  },
  {
   "cell_type": "code",
   "execution_count": null,
   "id": "59602e7d",
   "metadata": {},
   "outputs": [],
   "source": [
    "company_df = pd.read_csv('Data/companies_sorted.csv')"
   ]
  },
  {
   "cell_type": "code",
   "execution_count": null,
   "id": "294848a7",
   "metadata": {},
   "outputs": [],
   "source": [
    "company_df.head()"
   ]
  },
  {
   "cell_type": "code",
   "execution_count": null,
   "id": "0c1d26dd",
   "metadata": {},
   "outputs": [],
   "source": [
    "# 1. format df accordingly\n",
    "company_df.rename(columns={\n",
    "    'domain' : 'website',\n",
    "    'year founded' : 'founded_year',\n",
    "    'locality' : 'region',\n",
    "    'linkedin url' :'linkedin_url',\n",
    "    'current employee estimate' : 'number_of_employees'\n",
    "}, inplace=True)\n",
    "\n",
    "company_df.drop(columns=['Unnamed: 0', 'size range', 'total employee estimate'], inplace=True)\n",
    "# remove columns without a name\n",
    "company_df = company_df[company_df['name'].notna()]\n",
    "#remove collumns with duplicate names keeping companies with more employees\n",
    "company_df.drop_duplicates('name', keep='first', inplace=True)\n",
    "\n",
    "company_df.head()"
   ]
  },
  {
   "cell_type": "code",
   "execution_count": null,
   "id": "f3509de2",
   "metadata": {},
   "outputs": [],
   "source": [
    "# 2 add the 1'000'000 largest companies to the database\n",
    "\n",
    "company_df_select = company_df.head(1000000)\n",
    "company_df_select.to_sql('company', con=conn, if_exists='append', index=False)"
   ]
  }
 ],
 "metadata": {
  "kernelspec": {
   "display_name": "Python 3.9.7 64-bit",
   "language": "python",
   "name": "python3"
  },
  "language_info": {
   "codemirror_mode": {
    "name": "ipython",
    "version": 3
   },
   "file_extension": ".py",
   "mimetype": "text/x-python",
   "name": "python",
   "nbconvert_exporter": "python",
   "pygments_lexer": "ipython3",
   "version": "3.9.7"
  },
  "vscode": {
   "interpreter": {
    "hash": "6ba30efa6c83cc67155e3cb155424c99993961b2961767482ff7a5c4fd7da020"
   }
  }
 },
 "nbformat": 4,
 "nbformat_minor": 5
}
